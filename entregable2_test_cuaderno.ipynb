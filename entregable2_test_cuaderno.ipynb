{
 "cells": [
  {
   "cell_type": "markdown",
   "id": "5b549b6e",
   "metadata": {},
   "source": [
    "# Cuaderno de pruebas para Entregable 2\n",
    "\n",
    "Este cuaderno permite testear de forma práctica todas las funcionalidades implementadas en el Entregable 2 del proyecto Flask de gestión de tareas con integración de IA. \n",
    "\n",
    "Incluye pruebas de endpoints REST, integración con OpenAI, acumulación de tokens y validación de esquemas, dando continuidad al cuaderno del Entregable 1."
   ]
  },
  {
   "cell_type": "markdown",
   "id": "f4263e03",
   "metadata": {},
   "source": [
    "## Arranque automático del backend Flask\n",
    "\n",
    "Antes de realizar cualquier prueba, este cuaderno puede lanzar automáticamente el servidor Flask en segundo plano si no está ya corriendo. Esto facilita la ejecución de las pruebas sin depender de una terminal externa.\n",
    "\n",
    "Si ya tienes el backend corriendo, puedes omitir la siguiente celda."
   ]
  },
  {
   "cell_type": "code",
   "execution_count": 1,
   "id": "917b1282",
   "metadata": {},
   "outputs": [
    {
     "name": "stdout",
     "output_type": "stream",
     "text": [
      "Servidor Flask lanzado en segundo plano.\n"
     ]
    }
   ],
   "source": [
    "import subprocess\n",
    "import sys\n",
    "import time\n",
    "\n",
    "# Lanza el servidor Flask en segundo plano si no está ya corriendo\n",
    "try:\n",
    "    flask_proc = subprocess.Popen([sys.executable, \"run.py\"])\n",
    "    print(\"Servidor Flask lanzado en segundo plano.\")\n",
    "    time.sleep(3)  # Espera a que arranque\n",
    "except Exception as e:\n",
    "    print(\"No se pudo lanzar el servidor Flask:\", e)"
   ]
  },
  {
   "cell_type": "markdown",
   "id": "cda3327d",
   "metadata": {},
   "source": [
    "### Configuración del entorno y comprobación de dependencias\n",
    "\n",
    "Esta celda carga las variables de entorno desde el archivo `.env`, verifica la conexión con la API Flask y comprueba que la clave de OpenAI esté disponible. Es fundamental para asegurar que el entorno está correctamente preparado antes de ejecutar las pruebas del cuaderno."
   ]
  },
  {
   "cell_type": "code",
   "execution_count": 2,
   "id": "5d13c652",
   "metadata": {},
   "outputs": [
    {
     "name": "stdout",
     "output_type": "stream",
     "text": [
      "✅ API disponible: 404\n",
      "OPENAI_API_KEY presente: True\n"
     ]
    }
   ],
   "source": [
    "# Configuración del entorno y comprobación de dependencias\n",
    "import os\n",
    "import sys\n",
    "import requests\n",
    "from dotenv import load_dotenv\n",
    "\n",
    "# Usar el directorio actual como raíz del proyecto\n",
    "PROJECT_ROOT = os.getcwd()\n",
    "ENV_PATH = os.path.join(PROJECT_ROOT, '.env')\n",
    "load_dotenv(dotenv_path=ENV_PATH, override=True)\n",
    "\n",
    "# Comprobar conexión con la API (ajusta el puerto si es necesario)\n",
    "API_URL = os.getenv('API_URL', 'http://127.0.0.1:5000')\n",
    "try:\n",
    "    r = requests.get(f'{API_URL}/')\n",
    "    print('✅ API disponible:', r.status_code)\n",
    "except Exception as e:\n",
    "    print('❌ No se pudo conectar con la API:', e)\n",
    "\n",
    "# Comprobar clave OpenAI\n",
    "openai_key = os.getenv('OPENAI_API_KEY')\n",
    "print('OPENAI_API_KEY presente:', bool(openai_key))"
   ]
  },
  {
   "cell_type": "markdown",
   "id": "42426c7e",
   "metadata": {},
   "source": [
    "## Test de endpoints básicos de gestión de tareas\n",
    "\n",
    "En esta sección se crearán, listarán, actualizarán y eliminarán tareas usando la API REST del proyecto.\n",
    "\n",
    "## Creación de tareas básicas para pruebas de IA\n",
    "\n",
    "En la siguiente celda se crearán 3 tareas típicas del desarrollo de un producto de software, utilizando únicamente los campos básicos requeridos por el sistema (sin descripción detallada, sin categoría y con esfuerzo mínimo). \n",
    "\n",
    "Estas tareas servirán como base para que, en las siguientes celdas, la IA las enriquezca automáticamente generando la descripción, la categoría, la estimación de esfuerzo y la auditoría mediante los endpoints inteligentes del backend."
   ]
  },
  {
   "cell_type": "code",
   "execution_count": 8,
   "id": "83ff386f",
   "metadata": {},
   "outputs": [
    {
     "name": "stdout",
     "output_type": "stream",
     "text": [
      "Tarea 'Diseñar la base de datos' creada: 201 {'assigned_to': 'Ana', 'category': None, 'description': 'description', 'effort_hours': 1.0, 'id': 1, 'priority': 'alta', 'risk_analysis': None, 'risk_mitigation': None, 'status': 'pendiente', 'title': 'Diseñar la base de datos', 'token_usage': 0}\n",
      "Tarea 'Implementar autenticación de usuarios' creada: 201 {'assigned_to': 'Luis', 'category': None, 'description': 'description', 'effort_hours': 1.0, 'id': 2, 'priority': 'media', 'risk_analysis': None, 'risk_mitigation': None, 'status': 'pendiente', 'title': 'Implementar autenticación de usuarios', 'token_usage': 0}\n",
      "Tarea 'Crear pruebas unitarias' creada: 201 {'assigned_to': 'Sofía', 'category': None, 'description': 'description', 'effort_hours': 1.0, 'id': 3, 'priority': 'baja', 'risk_analysis': None, 'risk_mitigation': None, 'status': 'pendiente', 'title': 'Crear pruebas unitarias', 'token_usage': 0}\n",
      "Tareas actuales: 200\n",
      "{'assigned_to': 'Ana', 'category': None, 'description': 'description', 'effort_hours': 1.0, 'id': 1, 'priority': 'alta', 'risk_analysis': None, 'risk_mitigation': None, 'status': 'pendiente', 'title': 'Diseñar la base de datos', 'token_usage': 0}\n",
      "{'assigned_to': 'Luis', 'category': None, 'description': 'description', 'effort_hours': 1.0, 'id': 2, 'priority': 'media', 'risk_analysis': None, 'risk_mitigation': None, 'status': 'pendiente', 'title': 'Implementar autenticación de usuarios', 'token_usage': 0}\n",
      "{'assigned_to': 'Sofía', 'category': None, 'description': 'description', 'effort_hours': 1.0, 'id': 3, 'priority': 'baja', 'risk_analysis': None, 'risk_mitigation': None, 'status': 'pendiente', 'title': 'Crear pruebas unitarias', 'token_usage': 0}\n"
     ]
    }
   ],
   "source": [
    "# Crear 3 tareas típicas de desarrollo de un producto de software (description vacío y effort_hours=1)\n",
    "\n",
    "tareas = [\n",
    "    {\n",
    "        'title': 'Diseñar la base de datos',\n",
    "        'description': 'description',\n",
    "        'priority': 'alta',\n",
    "        'effort_hours': 1,  # Se estimará con IA\n",
    "        'status': 'pendiente',\n",
    "        'assigned_to': 'Ana'\n",
    "    },\n",
    "    {\n",
    "        'title': 'Implementar autenticación de usuarios',\n",
    "        'description': 'description',\n",
    "        'priority': 'media',\n",
    "        'effort_hours': 1,  # Se estimará con IA\n",
    "        'status': 'pendiente',\n",
    "        'assigned_to': 'Luis'\n",
    "    },\n",
    "    {\n",
    "        'title': 'Crear pruebas unitarias',\n",
    "        'description': 'description',\n",
    "        'priority': 'baja',\n",
    "        'effort_hours': 1,  # Se estimará con IA\n",
    "        'status': 'pendiente',\n",
    "        'assigned_to': 'Sofía'\n",
    "    }\n",
    "]\n",
    "\n",
    "ids = []\n",
    "for tarea in tareas:\n",
    "    resp = requests.post(f'{API_URL}/tasks', json=tarea)\n",
    "    print(f\"Tarea '{tarea['title']}' creada:\", resp.status_code, resp.json())\n",
    "    if resp.status_code == 201:\n",
    "        ids.append(resp.json().get('id'))\n",
    "\n",
    "# Mostrar todas las tareas actuales\n",
    "resp = requests.get(f'{API_URL}/tasks')\n",
    "print('Tareas actuales:', resp.status_code)\n",
    "for t in resp.json():\n",
    "    print(t)\n",
    "\n",
    "# Los campos de descripción enriquecida, categoría y esfuerzo se completarán usando los endpoints de IA en las siguientes celdas."
   ]
  },
  {
   "cell_type": "code",
   "execution_count": 9,
   "id": "1340cd27",
   "metadata": {},
   "outputs": [
    {
     "name": "stdout",
     "output_type": "stream",
     "text": [
      "Respuesta IA para descripción de la tarea 2 (id=2): 200 {'assigned_to': 'Luis', 'category': None, 'description': '**Descripción de la tarea: Implementar autenticación de usuarios**\\n\\n1. **Revisión de requisitos**: Analizar los requisitos de autenticación que incluyen el registro de usuarios, inicio de sesión, recuperación de contraseña y verificación de correo electrónico.\\n\\n2. **Selección de tecnología**: Elegir una biblioteca o framework adecuado para la autenticación (por ejemplo, OAuth, JWT, etc.), asegurándose de que sea compatible con la pila tecnológica del proyecto.\\n\\n3. **Diseño de base de datos**: \\n   - Crear una tabla `usuarios` en la base de datos con los siguientes campos:\\n     - `id` (int, PK, autoincremento)\\n     - `email` (varchar, único)\\n     - `contraseña` (varchar, encriptada)\\n     - `fecha_creacion` (datetime)\\n     - `estado_verificacion` (booleano)\\n\\n4. **Registro de usuario**:\\n   - Desarrollar una API REST para el registro que:\\n     - Reciba `email` y `contraseña`.\\n     - Valide si el email ya está registrado.\\n     - Encripte la contraseña utilizando un algoritmo seguro (por ejemplo, bcrypt).\\n     - Inserte el usuario en la base de datos y envíe un correo de verificación.\\n\\n5. **Inicio de sesión**:\\n   - Crear una API REST para el inicio de sesión que:\\n     - Reciba `email` y `contraseña`.\\n     - Verifique la existencia del usuario y la validez de la contraseña.\\n     - Genere un token JWT si las credenciales son correctas y lo devuelva al cliente.\\n\\n6. **Recuperación de contraseña**:\\n   - Implementar un flujo que permita a los usuarios solicitar un enlace de recuperación:\\n     - Generar un token único y enviarlo al correo del usuario.\\n     - Crear una API que reciba el token, permita ingresar una nueva contraseña y actualice la base de datos.\\n\\n7. **Verificación de correo electrónico**:\\n   - Desarrollar una API que valide el token de verificación recibido en el correo y actualice `estado_verificacion` en la base de datos.\\n\\n8. **Pruebas**:\\n   - Escribir pruebas unitarias y de integración para cada uno de los endpoints desarrollados.\\n   - Realizar pruebas de seguridad para verificar que no exista vulnerabilidad (ej. inyecciones SQL, ataques XSS).\\n\\n9. **Documentación', 'effort_hours': 1.0, 'id': 2, 'priority': 'media', 'risk_analysis': None, 'risk_mitigation': None, 'status': 'pendiente', 'title': 'Implementar autenticación de usuarios', 'token_usage': 590}\n"
     ]
    }
   ],
   "source": [
    "# Solicitar a la IA que añada la descripción a la tarea 2 \n",
    "\n",
    "if len(ids) >= 2:\n",
    "    task_id = ids[1]\n",
    "    resp = requests.post(f'{API_URL}/ai/tasks/describe/{task_id}')\n",
    "    print(f\"Respuesta IA para descripción de la tarea 2 (id={task_id}):\", resp.status_code, resp.json())\n",
    "else:\n",
    "    print(\"No se encontró la tarea 2 para solicitar la descripción a la IA.\")"
   ]
  },
  {
   "cell_type": "code",
   "execution_count": 10,
   "id": "096c84c7",
   "metadata": {},
   "outputs": [
    {
     "name": "stdout",
     "output_type": "stream",
     "text": [
      "Respuesta IA para categorización de la tarea 2 (id=2): 200 {'assigned_to': 'Luis', 'category': 'Feature', 'description': '**Descripción de la tarea: Implementar autenticación de usuarios**\\n\\n1. **Revisión de requisitos**: Analizar los requisitos de autenticación que incluyen el registro de usuarios, inicio de sesión, recuperación de contraseña y verificación de correo electrónico.\\n\\n2. **Selección de tecnología**: Elegir una biblioteca o framework adecuado para la autenticación (por ejemplo, OAuth, JWT, etc.), asegurándose de que sea compatible con la pila tecnológica del proyecto.\\n\\n3. **Diseño de base de datos**: \\n   - Crear una tabla `usuarios` en la base de datos con los siguientes campos:\\n     - `id` (int, PK, autoincremento)\\n     - `email` (varchar, único)\\n     - `contraseña` (varchar, encriptada)\\n     - `fecha_creacion` (datetime)\\n     - `estado_verificacion` (booleano)\\n\\n4. **Registro de usuario**:\\n   - Desarrollar una API REST para el registro que:\\n     - Reciba `email` y `contraseña`.\\n     - Valide si el email ya está registrado.\\n     - Encripte la contraseña utilizando un algoritmo seguro (por ejemplo, bcrypt).\\n     - Inserte el usuario en la base de datos y envíe un correo de verificación.\\n\\n5. **Inicio de sesión**:\\n   - Crear una API REST para el inicio de sesión que:\\n     - Reciba `email` y `contraseña`.\\n     - Verifique la existencia del usuario y la validez de la contraseña.\\n     - Genere un token JWT si las credenciales son correctas y lo devuelva al cliente.\\n\\n6. **Recuperación de contraseña**:\\n   - Implementar un flujo que permita a los usuarios solicitar un enlace de recuperación:\\n     - Generar un token único y enviarlo al correo del usuario.\\n     - Crear una API que reciba el token, permita ingresar una nueva contraseña y actualice la base de datos.\\n\\n7. **Verificación de correo electrónico**:\\n   - Desarrollar una API que valide el token de verificación recibido en el correo y actualice `estado_verificacion` en la base de datos.\\n\\n8. **Pruebas**:\\n   - Escribir pruebas unitarias y de integración para cada uno de los endpoints desarrollados.\\n   - Realizar pruebas de seguridad para verificar que no exista vulnerabilidad (ej. inyecciones SQL, ataques XSS).\\n\\n9. **Documentación', 'effort_hours': 1.0, 'id': 2, 'priority': 'media', 'risk_analysis': None, 'risk_mitigation': None, 'status': 'pendiente', 'title': 'Implementar autenticación de usuarios', 'token_usage': 1187}\n"
     ]
    }
   ],
   "source": [
    "# Solicitar a la IA que categorice la tarea 2 \n",
    "\n",
    "if len(ids) >= 2:\n",
    "    task_id = ids[1]\n",
    "    resp = requests.post(f'{API_URL}/ai/tasks/categorize/{task_id}')\n",
    "    print(f\"Respuesta IA para categorización de la tarea 2 (id={task_id}):\", resp.status_code, resp.json())\n",
    "else:\n",
    "    print(\"No se encontró la tarea 2 para solicitar la categorización a la IA.\")"
   ]
  },
  {
   "cell_type": "code",
   "execution_count": null,
   "id": "6b47f930",
   "metadata": {},
   "outputs": [
    {
     "name": "stdout",
     "output_type": "stream",
     "text": [
      "Respuesta IA para estimación de esfuerzo de la tarea 2 (id=2): 200 {'assigned_to': 'Luis', 'category': 'Feature', 'description': '**Descripción de la tarea: Implementar autenticación de usuarios**\\n\\n1. **Revisión de requisitos**: Analizar los requisitos de autenticación que incluyen el registro de usuarios, inicio de sesión, recuperación de contraseña y verificación de correo electrónico.\\n\\n2. **Selección de tecnología**: Elegir una biblioteca o framework adecuado para la autenticación (por ejemplo, OAuth, JWT, etc.), asegurándose de que sea compatible con la pila tecnológica del proyecto.\\n\\n3. **Diseño de base de datos**: \\n   - Crear una tabla `usuarios` en la base de datos con los siguientes campos:\\n     - `id` (int, PK, autoincremento)\\n     - `email` (varchar, único)\\n     - `contraseña` (varchar, encriptada)\\n     - `fecha_creacion` (datetime)\\n     - `estado_verificacion` (booleano)\\n\\n4. **Registro de usuario**:\\n   - Desarrollar una API REST para el registro que:\\n     - Reciba `email` y `contraseña`.\\n     - Valide si el email ya está registrado.\\n     - Encripte la contraseña utilizando un algoritmo seguro (por ejemplo, bcrypt).\\n     - Inserte el usuario en la base de datos y envíe un correo de verificación.\\n\\n5. **Inicio de sesión**:\\n   - Crear una API REST para el inicio de sesión que:\\n     - Reciba `email` y `contraseña`.\\n     - Verifique la existencia del usuario y la validez de la contraseña.\\n     - Genere un token JWT si las credenciales son correctas y lo devuelva al cliente.\\n\\n6. **Recuperación de contraseña**:\\n   - Implementar un flujo que permita a los usuarios solicitar un enlace de recuperación:\\n     - Generar un token único y enviarlo al correo del usuario.\\n     - Crear una API que reciba el token, permita ingresar una nueva contraseña y actualice la base de datos.\\n\\n7. **Verificación de correo electrónico**:\\n   - Desarrollar una API que valide el token de verificación recibido en el correo y actualice `estado_verificacion` en la base de datos.\\n\\n8. **Pruebas**:\\n   - Escribir pruebas unitarias y de integración para cada uno de los endpoints desarrollados.\\n   - Realizar pruebas de seguridad para verificar que no exista vulnerabilidad (ej. inyecciones SQL, ataques XSS).\\n\\n9. **Documentación', 'effort_hours': 40.0, 'id': 2, 'priority': 'media', 'risk_analysis': None, 'risk_mitigation': None, 'status': 'pendiente', 'title': 'Implementar autenticación de usuarios', 'token_usage': 1772}\n"
     ]
    }
   ],
   "source": [
    "# Solicitar a la IA que estime el esfuerzo de la tarea 2 \n",
    "\n",
    "if len(ids) >= 2:\n",
    "    task_id = ids[1]\n",
    "    resp = requests.post(f'{API_URL}/ai/tasks/estimate/{task_id}')\n",
    "    print(f\"Respuesta IA para estimación de esfuerzo de la tarea 2 (id={task_id}):\", resp.status_code, resp.json())\n",
    "else:\n",
    "    print(\"No se encontró la tarea 2 para solicitar la estimación de esfuerzo a la IA.\")"
   ]
  },
  {
   "cell_type": "code",
   "execution_count": null,
   "id": "023bd6c6",
   "metadata": {},
   "outputs": [
    {
     "name": "stdout",
     "output_type": "stream",
     "text": [
      "Respuesta IA para auditoría de la tarea 2 (id=2): 200 {'assigned_to': 'Luis', 'category': 'Feature', 'description': '**Descripción de la tarea: Implementar autenticación de usuarios**\\n\\n1. **Revisión de requisitos**: Analizar los requisitos de autenticación que incluyen el registro de usuarios, inicio de sesión, recuperación de contraseña y verificación de correo electrónico.\\n\\n2. **Selección de tecnología**: Elegir una biblioteca o framework adecuado para la autenticación (por ejemplo, OAuth, JWT, etc.), asegurándose de que sea compatible con la pila tecnológica del proyecto.\\n\\n3. **Diseño de base de datos**: \\n   - Crear una tabla `usuarios` en la base de datos con los siguientes campos:\\n     - `id` (int, PK, autoincremento)\\n     - `email` (varchar, único)\\n     - `contraseña` (varchar, encriptada)\\n     - `fecha_creacion` (datetime)\\n     - `estado_verificacion` (booleano)\\n\\n4. **Registro de usuario**:\\n   - Desarrollar una API REST para el registro que:\\n     - Reciba `email` y `contraseña`.\\n     - Valide si el email ya está registrado.\\n     - Encripte la contraseña utilizando un algoritmo seguro (por ejemplo, bcrypt).\\n     - Inserte el usuario en la base de datos y envíe un correo de verificación.\\n\\n5. **Inicio de sesión**:\\n   - Crear una API REST para el inicio de sesión que:\\n     - Reciba `email` y `contraseña`.\\n     - Verifique la existencia del usuario y la validez de la contraseña.\\n     - Genere un token JWT si las credenciales son correctas y lo devuelva al cliente.\\n\\n6. **Recuperación de contraseña**:\\n   - Implementar un flujo que permita a los usuarios solicitar un enlace de recuperación:\\n     - Generar un token único y enviarlo al correo del usuario.\\n     - Crear una API que reciba el token, permita ingresar una nueva contraseña y actualice la base de datos.\\n\\n7. **Verificación de correo electrónico**:\\n   - Desarrollar una API que valide el token de verificación recibido en el correo y actualice `estado_verificacion` en la base de datos.\\n\\n8. **Pruebas**:\\n   - Escribir pruebas unitarias y de integración para cada uno de los endpoints desarrollados.\\n   - Realizar pruebas de seguridad para verificar que no exista vulnerabilidad (ej. inyecciones SQL, ataques XSS).\\n\\n9. **Documentación', 'effort_hours': 40.0, 'id': 2, 'priority': 'media', 'risk_analysis': '**ANÁLISIS DE RIESGOS:**\\n\\n1. **Incompletitud en los requisitos**: Los requisitos de autenticación pueden estar mal definidos o incompletos, lo que puede llevar a una implementación inadecuada.\\n\\n2. **Selección incorrecta de tecnología**: Elegir una biblioteca o framework que no sea adecuado para el contexto del proyecto puede causar problemas de compatibilidad y seguridad.\\n\\n3. **Vulnerabilidades de seguridad**: La implementación de la autenticación puede ser susceptible a ataques como inyecciones SQL, XSS, CSRF, entre otros si no se realizan pruebas de seguridad adecuadas.\\n\\n4. **Manejo inadecuado de contraseñas**: Si el algoritmo de encriptación de contraseñas no es el adecuado o se implementa incorrectamente, puede resultar en la exposición de contraseñas de usuarios.\\n\\n5. **Problemas en la gestión de tokens**: La generación y validación de tokens JWT pueden ser vulnerables si no se implementan correctamente, lo que podría permitir el acceso no autorizado.\\n\\n6. **Errores en la lógica de recuperación de contraseña**: Si el flujo de recuperación de contraseña contiene errores, los usuarios pueden quedar bloqueados o ser vulnerables a ataques.\\n\\n7. **Falta de validación de entradas**: La falta de validación adecuada en los datos de entrada puede llevar a errores o vulnerabilidades en la API.\\n\\n8. **Dependencias de terceros**: La utilización de bibliotecas o servicios de terceros puede introducir riesgos si estos no son mantenidos adecuadamente o contienen vulnerabilidades.\\n\\n9. **Problemas de rendimiento**: Las APIs pueden no estar optimizadas, lo que podría llevar a un rendimiento deficiente bajo alta carga de usuarios.\\n\\n10. **Falta de pruebas exhaustivas**: La ausencia de pruebas unitarias y de integración puede resultar en la detección tardía de errores y vulnerabilidades en la implementación.\\n\\n11. **Documentación insuficiente**: La falta de documentación clara puede dificultar el mantenimiento y la comprensión del sistema por futuros desarrolladores.\\n\\n12. **Cambios en requisitos legales**: La implementación de la autenticación debe cumplir con normativas de protección de datos, y cualquier cambio en estas puede implicar riesgos si no se aborda adecuadamente.', 'risk_mitigation': '**PLAN DE MITIGACIÓN DE RIESGOS:**\\n\\n1. **Incompletitud en los requisitos**: \\n   - Realizar sesiones de revisión con stakeholders para validar y confirmar los requisitos de autenticación antes de comenzar la implementación. \\n   - Documentar todos los requisitos y mantener un registro de cambios durante el desarrollo.\\n\\n2. **Selección incorrecta de tecnología**: \\n   - Investigar y evaluar varias bibliotecas y frameworks para autenticación antes de seleccionar uno, considerando la compatibilidad y seguridad.\\n   - Incluir revisiones de código y pruebas de concepto para validar la elección tecnológica.\\n\\n3. **Vulnerabilidades de seguridad**: \\n   - Implementar prácticas de desarrollo seguro, como OWASP Top Ten, y realizar revisiones de código centradas en seguridad.\\n   - Utilizar herramientas de análisis de seguridad automatizadas para detectar vulnerabilidades en el código.\\n\\n4. **Manejo inadecuado de contraseñas**: \\n   - Elegir un algoritmo de encriptación robusto (como bcrypt) y establecer políticas claras sobre su uso.\\n   - Implementar pruebas automáticas para verificar la correcta encriptación y almacenamiento de contraseñas.\\n\\n5. **Problemas en la gestión de tokens**: \\n   - Definir y documentar claramente los procesos de generación y validación de tokens JWT, incluyendo la expiración y revocación.\\n   - Realizar pruebas de seguridad específicas para la gestión de tokens, como ataques de repetición.\\n\\n6. **Errores en la lógica de recuperación de contraseña**: \\n   - Diseñar un flujo de recuperación de contraseña claro y detallado, y realizar revisiones de código para asegurar su correcta implementación.\\n   - Incluir un mecanismo de bloqueo temporal tras varios intentos fallidos de recuperación.\\n\\n7. **Falta de validación de entradas**: \\n   - Implementar validaciones estrictas en todos los puntos de entrada de datos y utilizar bibliotecas de validación confiables.\\n   - Realizar pruebas unitarias que incluyan casos de prueba para entradas válidas e inválidas.\\n\\n8. **Dependencias de terceros**: \\n   - Mantener un registro de las bibliotecas y servicios de terceros utilizados, incluyendo sus versiones y actualizaciones.\\n   - Establecer un proceso de revisión regular para identificar y mitigar vulnerabilidades en las dependencias.\\n\\n9. **Problemas de rendimiento**: \\n   - Realizar pruebas de carga y estrés en las APIs para identificar cuellos de botella y optimizar el rendimiento.\\n   - Implementar cachés donde sea apropiado para mejorar la eficiencia de las llamadas a la API.\\n\\n10. **Falta de pruebas exhaustivas**: \\n    - Establecer un marco de pruebas que incluya pruebas unitarias, de integración y de seguridad para todas las funcionalidades.\\n    - Asegurar que las pruebas se ejecuten automáticamente en cada cambio significativo del código.\\n\\n11. **Documentación insuficiente**: \\n    - Crear y mantener documentación clara y detallada a lo largo del desarrollo, incluyendo diagramas de flujo y ejemplos de uso.\\n    - Incluir procedimientos de documentación en las revisiones de código y en el proceso de finalización del proyecto.\\n\\n12. **Cambios en requisitos legales**: \\n    - Realizar auditorías regulares para garantizar el cumplimiento de normativas de protección de datos relevantes.\\n    - Mantenerse actualizado sobre cambios legislativos y adaptar el sistema de autenticación según sea necesario.', 'status': 'pendiente', 'title': 'Implementar autenticación de usuarios', 'token_usage': 4582}\n"
     ]
    }
   ],
   "source": [
    "# Solicitar a la IA que audite la tarea 2 \n",
    "\n",
    "if len(ids) >= 2:\n",
    "    task_id = ids[1]\n",
    "    resp = requests.post(f'{API_URL}/ai/tasks/audit/{task_id}')\n",
    "    print(f\"Respuesta IA para auditoría de la tarea 2 (id={task_id}):\", resp.status_code, resp.json())\n",
    "else:\n",
    "    print(\"No se encontró la tarea 2 para solicitar la auditoría a la IA.\")"
   ]
  },
  {
   "cell_type": "code",
   "execution_count": 13,
   "id": "19634ae9",
   "metadata": {},
   "outputs": [
    {
     "name": "stdout",
     "output_type": "stream",
     "text": [
      "Descripción IA tarea 3 (id=3): 200 {'assigned_to': 'Sofía', 'category': None, 'description': '**Descripción de la tarea: Crear pruebas unitarias para el módulo de autenticación de usuarios**\\n\\n1. **Objetivo**: Implementar pruebas unitarias que verifiquen la funcionalidad del módulo de autenticación de usuarios, asegurando que todas las funciones relacionadas al login, registro y validación de JWT se comporten como se espera.\\n\\n2. **Requisitos**:\\n   - Revisar el código actual del módulo de autenticación ubicado en `/src/auth`.\\n   - Identificar las funciones clave a probar:\\n     - `loginUser(credentials)`: Debe retornar un token JWT válido o un error en caso de credenciales incorrectas.\\n     - `registerUser(userData)`: Debe crear un nuevo usuario y retornar los datos del usuario o un error en caso de datos inválidos.\\n     - `validateToken(token)`: Debe verificar la validez del token y retornar un booleano o un error.\\n\\n3. **Herramientas**:\\n   - Utilizar Jest como framework de pruebas.\\n   - Asegurarse de que las pruebas estén en el directorio `/tests/auth`.\\n\\n4. **Pasos a seguir**:\\n   - Configurar Jest en el proyecto si aún no está configurado.\\n   - Crear archivos de prueba para cada función en el módulo:\\n     - `loginUser.test.js`\\n     - `registerUser.test.js`\\n     - `validateToken.test.js`\\n   - Escribir casos de prueba que cubran al menos las siguientes situaciones:\\n     - Para `loginUser`: pruebas de inicio de sesión exitoso y fallido (credenciales incorrectas).\\n     - Para `registerUser`: pruebas de registro exitoso, registro con datos ya existentes y registro con datos inválidos.\\n     - Para `validateToken`: pruebas con un token válido, un token expirado y un token inválido.\\n   - Ejecutar las pruebas y asegurar que todas pasen, realizando ajustes en el código del módulo si es necesario.\\n\\n5. **Documentación**:\\n   - Documentar cada prueba escrita, explicando el propósito y el resultado esperado en el archivo de prueba correspondiente.\\n   - Actualizar la documentación del módulo de autenticación para incluir detalles sobre las pruebas unitarias realizadas. \\n\\n6. **Revisión**:\\n   - Una vez completadas, solicitar una revisión del código a otro miembro del equipo para asegurar la calidad y cobertura de las pruebas.\\n\\n**Entregables**:\\n- Archivos de prueba en `/tests/auth`.\\n- Documentación', 'effort_hours': 1.0, 'id': 3, 'priority': 'baja', 'risk_analysis': None, 'risk_mitigation': None, 'status': 'pendiente', 'title': 'Crear pruebas unitarias', 'token_usage': 589}\n",
      "Categoría IA tarea 3 (id=3): 200 {'assigned_to': 'Sofía', 'category': 'Testing', 'description': '**Descripción de la tarea: Crear pruebas unitarias para el módulo de autenticación de usuarios**\\n\\n1. **Objetivo**: Implementar pruebas unitarias que verifiquen la funcionalidad del módulo de autenticación de usuarios, asegurando que todas las funciones relacionadas al login, registro y validación de JWT se comporten como se espera.\\n\\n2. **Requisitos**:\\n   - Revisar el código actual del módulo de autenticación ubicado en `/src/auth`.\\n   - Identificar las funciones clave a probar:\\n     - `loginUser(credentials)`: Debe retornar un token JWT válido o un error en caso de credenciales incorrectas.\\n     - `registerUser(userData)`: Debe crear un nuevo usuario y retornar los datos del usuario o un error en caso de datos inválidos.\\n     - `validateToken(token)`: Debe verificar la validez del token y retornar un booleano o un error.\\n\\n3. **Herramientas**:\\n   - Utilizar Jest como framework de pruebas.\\n   - Asegurarse de que las pruebas estén en el directorio `/tests/auth`.\\n\\n4. **Pasos a seguir**:\\n   - Configurar Jest en el proyecto si aún no está configurado.\\n   - Crear archivos de prueba para cada función en el módulo:\\n     - `loginUser.test.js`\\n     - `registerUser.test.js`\\n     - `validateToken.test.js`\\n   - Escribir casos de prueba que cubran al menos las siguientes situaciones:\\n     - Para `loginUser`: pruebas de inicio de sesión exitoso y fallido (credenciales incorrectas).\\n     - Para `registerUser`: pruebas de registro exitoso, registro con datos ya existentes y registro con datos inválidos.\\n     - Para `validateToken`: pruebas con un token válido, un token expirado y un token inválido.\\n   - Ejecutar las pruebas y asegurar que todas pasen, realizando ajustes en el código del módulo si es necesario.\\n\\n5. **Documentación**:\\n   - Documentar cada prueba escrita, explicando el propósito y el resultado esperado en el archivo de prueba correspondiente.\\n   - Actualizar la documentación del módulo de autenticación para incluir detalles sobre las pruebas unitarias realizadas. \\n\\n6. **Revisión**:\\n   - Una vez completadas, solicitar una revisión del código a otro miembro del equipo para asegurar la calidad y cobertura de las pruebas.\\n\\n**Entregables**:\\n- Archivos de prueba en `/tests/auth`.\\n- Documentación', 'effort_hours': 1.0, 'id': 3, 'priority': 'baja', 'risk_analysis': None, 'risk_mitigation': None, 'status': 'pendiente', 'title': 'Crear pruebas unitarias', 'token_usage': 1184}\n",
      "Categoría IA tarea 3 (id=3): 200 {'assigned_to': 'Sofía', 'category': 'Testing', 'description': '**Descripción de la tarea: Crear pruebas unitarias para el módulo de autenticación de usuarios**\\n\\n1. **Objetivo**: Implementar pruebas unitarias que verifiquen la funcionalidad del módulo de autenticación de usuarios, asegurando que todas las funciones relacionadas al login, registro y validación de JWT se comporten como se espera.\\n\\n2. **Requisitos**:\\n   - Revisar el código actual del módulo de autenticación ubicado en `/src/auth`.\\n   - Identificar las funciones clave a probar:\\n     - `loginUser(credentials)`: Debe retornar un token JWT válido o un error en caso de credenciales incorrectas.\\n     - `registerUser(userData)`: Debe crear un nuevo usuario y retornar los datos del usuario o un error en caso de datos inválidos.\\n     - `validateToken(token)`: Debe verificar la validez del token y retornar un booleano o un error.\\n\\n3. **Herramientas**:\\n   - Utilizar Jest como framework de pruebas.\\n   - Asegurarse de que las pruebas estén en el directorio `/tests/auth`.\\n\\n4. **Pasos a seguir**:\\n   - Configurar Jest en el proyecto si aún no está configurado.\\n   - Crear archivos de prueba para cada función en el módulo:\\n     - `loginUser.test.js`\\n     - `registerUser.test.js`\\n     - `validateToken.test.js`\\n   - Escribir casos de prueba que cubran al menos las siguientes situaciones:\\n     - Para `loginUser`: pruebas de inicio de sesión exitoso y fallido (credenciales incorrectas).\\n     - Para `registerUser`: pruebas de registro exitoso, registro con datos ya existentes y registro con datos inválidos.\\n     - Para `validateToken`: pruebas con un token válido, un token expirado y un token inválido.\\n   - Ejecutar las pruebas y asegurar que todas pasen, realizando ajustes en el código del módulo si es necesario.\\n\\n5. **Documentación**:\\n   - Documentar cada prueba escrita, explicando el propósito y el resultado esperado en el archivo de prueba correspondiente.\\n   - Actualizar la documentación del módulo de autenticación para incluir detalles sobre las pruebas unitarias realizadas. \\n\\n6. **Revisión**:\\n   - Una vez completadas, solicitar una revisión del código a otro miembro del equipo para asegurar la calidad y cobertura de las pruebas.\\n\\n**Entregables**:\\n- Archivos de prueba en `/tests/auth`.\\n- Documentación', 'effort_hours': 1.0, 'id': 3, 'priority': 'baja', 'risk_analysis': None, 'risk_mitigation': None, 'status': 'pendiente', 'title': 'Crear pruebas unitarias', 'token_usage': 1184}\n",
      "Esfuerzo IA tarea 3 (id=3): 200 {'assigned_to': 'Sofía', 'category': 'Testing', 'description': '**Descripción de la tarea: Crear pruebas unitarias para el módulo de autenticación de usuarios**\\n\\n1. **Objetivo**: Implementar pruebas unitarias que verifiquen la funcionalidad del módulo de autenticación de usuarios, asegurando que todas las funciones relacionadas al login, registro y validación de JWT se comporten como se espera.\\n\\n2. **Requisitos**:\\n   - Revisar el código actual del módulo de autenticación ubicado en `/src/auth`.\\n   - Identificar las funciones clave a probar:\\n     - `loginUser(credentials)`: Debe retornar un token JWT válido o un error en caso de credenciales incorrectas.\\n     - `registerUser(userData)`: Debe crear un nuevo usuario y retornar los datos del usuario o un error en caso de datos inválidos.\\n     - `validateToken(token)`: Debe verificar la validez del token y retornar un booleano o un error.\\n\\n3. **Herramientas**:\\n   - Utilizar Jest como framework de pruebas.\\n   - Asegurarse de que las pruebas estén en el directorio `/tests/auth`.\\n\\n4. **Pasos a seguir**:\\n   - Configurar Jest en el proyecto si aún no está configurado.\\n   - Crear archivos de prueba para cada función en el módulo:\\n     - `loginUser.test.js`\\n     - `registerUser.test.js`\\n     - `validateToken.test.js`\\n   - Escribir casos de prueba que cubran al menos las siguientes situaciones:\\n     - Para `loginUser`: pruebas de inicio de sesión exitoso y fallido (credenciales incorrectas).\\n     - Para `registerUser`: pruebas de registro exitoso, registro con datos ya existentes y registro con datos inválidos.\\n     - Para `validateToken`: pruebas con un token válido, un token expirado y un token inválido.\\n   - Ejecutar las pruebas y asegurar que todas pasen, realizando ajustes en el código del módulo si es necesario.\\n\\n5. **Documentación**:\\n   - Documentar cada prueba escrita, explicando el propósito y el resultado esperado en el archivo de prueba correspondiente.\\n   - Actualizar la documentación del módulo de autenticación para incluir detalles sobre las pruebas unitarias realizadas. \\n\\n6. **Revisión**:\\n   - Una vez completadas, solicitar una revisión del código a otro miembro del equipo para asegurar la calidad y cobertura de las pruebas.\\n\\n**Entregables**:\\n- Archivos de prueba en `/tests/auth`.\\n- Documentación', 'effort_hours': 20.0, 'id': 3, 'priority': 'baja', 'risk_analysis': None, 'risk_mitigation': None, 'status': 'pendiente', 'title': 'Crear pruebas unitarias', 'token_usage': 1767}\n",
      "Esfuerzo IA tarea 3 (id=3): 200 {'assigned_to': 'Sofía', 'category': 'Testing', 'description': '**Descripción de la tarea: Crear pruebas unitarias para el módulo de autenticación de usuarios**\\n\\n1. **Objetivo**: Implementar pruebas unitarias que verifiquen la funcionalidad del módulo de autenticación de usuarios, asegurando que todas las funciones relacionadas al login, registro y validación de JWT se comporten como se espera.\\n\\n2. **Requisitos**:\\n   - Revisar el código actual del módulo de autenticación ubicado en `/src/auth`.\\n   - Identificar las funciones clave a probar:\\n     - `loginUser(credentials)`: Debe retornar un token JWT válido o un error en caso de credenciales incorrectas.\\n     - `registerUser(userData)`: Debe crear un nuevo usuario y retornar los datos del usuario o un error en caso de datos inválidos.\\n     - `validateToken(token)`: Debe verificar la validez del token y retornar un booleano o un error.\\n\\n3. **Herramientas**:\\n   - Utilizar Jest como framework de pruebas.\\n   - Asegurarse de que las pruebas estén en el directorio `/tests/auth`.\\n\\n4. **Pasos a seguir**:\\n   - Configurar Jest en el proyecto si aún no está configurado.\\n   - Crear archivos de prueba para cada función en el módulo:\\n     - `loginUser.test.js`\\n     - `registerUser.test.js`\\n     - `validateToken.test.js`\\n   - Escribir casos de prueba que cubran al menos las siguientes situaciones:\\n     - Para `loginUser`: pruebas de inicio de sesión exitoso y fallido (credenciales incorrectas).\\n     - Para `registerUser`: pruebas de registro exitoso, registro con datos ya existentes y registro con datos inválidos.\\n     - Para `validateToken`: pruebas con un token válido, un token expirado y un token inválido.\\n   - Ejecutar las pruebas y asegurar que todas pasen, realizando ajustes en el código del módulo si es necesario.\\n\\n5. **Documentación**:\\n   - Documentar cada prueba escrita, explicando el propósito y el resultado esperado en el archivo de prueba correspondiente.\\n   - Actualizar la documentación del módulo de autenticación para incluir detalles sobre las pruebas unitarias realizadas. \\n\\n6. **Revisión**:\\n   - Una vez completadas, solicitar una revisión del código a otro miembro del equipo para asegurar la calidad y cobertura de las pruebas.\\n\\n**Entregables**:\\n- Archivos de prueba en `/tests/auth`.\\n- Documentación', 'effort_hours': 20.0, 'id': 3, 'priority': 'baja', 'risk_analysis': None, 'risk_mitigation': None, 'status': 'pendiente', 'title': 'Crear pruebas unitarias', 'token_usage': 1767}\n",
      "Auditoría IA tarea 3 (id=3): 200 {'assigned_to': 'Sofía', 'category': 'Testing', 'description': '**Descripción de la tarea: Crear pruebas unitarias para el módulo de autenticación de usuarios**\\n\\n1. **Objetivo**: Implementar pruebas unitarias que verifiquen la funcionalidad del módulo de autenticación de usuarios, asegurando que todas las funciones relacionadas al login, registro y validación de JWT se comporten como se espera.\\n\\n2. **Requisitos**:\\n   - Revisar el código actual del módulo de autenticación ubicado en `/src/auth`.\\n   - Identificar las funciones clave a probar:\\n     - `loginUser(credentials)`: Debe retornar un token JWT válido o un error en caso de credenciales incorrectas.\\n     - `registerUser(userData)`: Debe crear un nuevo usuario y retornar los datos del usuario o un error en caso de datos inválidos.\\n     - `validateToken(token)`: Debe verificar la validez del token y retornar un booleano o un error.\\n\\n3. **Herramientas**:\\n   - Utilizar Jest como framework de pruebas.\\n   - Asegurarse de que las pruebas estén en el directorio `/tests/auth`.\\n\\n4. **Pasos a seguir**:\\n   - Configurar Jest en el proyecto si aún no está configurado.\\n   - Crear archivos de prueba para cada función en el módulo:\\n     - `loginUser.test.js`\\n     - `registerUser.test.js`\\n     - `validateToken.test.js`\\n   - Escribir casos de prueba que cubran al menos las siguientes situaciones:\\n     - Para `loginUser`: pruebas de inicio de sesión exitoso y fallido (credenciales incorrectas).\\n     - Para `registerUser`: pruebas de registro exitoso, registro con datos ya existentes y registro con datos inválidos.\\n     - Para `validateToken`: pruebas con un token válido, un token expirado y un token inválido.\\n   - Ejecutar las pruebas y asegurar que todas pasen, realizando ajustes en el código del módulo si es necesario.\\n\\n5. **Documentación**:\\n   - Documentar cada prueba escrita, explicando el propósito y el resultado esperado en el archivo de prueba correspondiente.\\n   - Actualizar la documentación del módulo de autenticación para incluir detalles sobre las pruebas unitarias realizadas. \\n\\n6. **Revisión**:\\n   - Una vez completadas, solicitar una revisión del código a otro miembro del equipo para asegurar la calidad y cobertura de las pruebas.\\n\\n**Entregables**:\\n- Archivos de prueba en `/tests/auth`.\\n- Documentación', 'effort_hours': 20.0, 'id': 3, 'priority': 'baja', 'risk_analysis': '**ANÁLISIS DE RIESGOS**\\n\\n1. **Inexistencia de pruebas previas**: La falta de pruebas unitarias existentes podría llevar a una cobertura incompleta y a la introducción de errores en el módulo de autenticación.\\n\\n2. **Falta de comprensión del código existente**: Si el desarrollador no entiende completamente el código del módulo de autenticación, puede escribir pruebas inadecuadas o incorrectas.\\n\\n3. **Dependencias externas**: El módulo de autenticación puede tener dependencias externas (como bases de datos o servicios de terceros) que dificulten la ejecución de pruebas unitarias.\\n\\n4. **Configuración incorrecta de Jest**: Errores en la configuración de Jest pueden impedir que las pruebas se ejecuten correctamente, llevando a resultados falsos negativos.\\n\\n5. **Cambios en el código**: Modificaciones en el código del módulo de autenticación durante el proceso de prueba pueden hacer que las pruebas existentes se vuelvan obsoletas o irrelevantes.\\n\\n6. **Casos de prueba incompletos**: La omisión de casos de prueba importantes puede resultar en la falta de detección de errores críticos en la funcionalidad del módulo.\\n\\n7. **Errores de lógica en las pruebas**: La implementación de pruebas con lógica incorrecta puede llevar a resultados engañosos, donde las pruebas pasan pero el código tiene errores.\\n\\n8. **Falta de documentación**: La ausencia de documentación adecuada sobre las pruebas realizadas puede dificultar la comprensión y mantenimiento futuro del código.\\n\\n9. **Revisión de código insuficiente**: Si la revisión de código no se realiza de manera efectiva, pueden pasar por alto errores significativos en las pruebas o en la implementación.\\n\\n10. **Plazos ajustados**: El tiempo limitado para completar las pruebas puede llevar a una cobertura insuficiente o a la omisión de pruebas críticas.', 'risk_mitigation': '**PLAN DE MITIGACIÓN**\\n\\n1. **Inexistencia de pruebas previas**:\\n   - Establecer un estándar mínimo de cobertura de pruebas (por ejemplo, 80%).\\n   - Implementar pruebas de regresión de manera prioritaria y revisarlas con el equipo.\\n   - Utilizar herramientas de análisis de cobertura de código para identificar áreas no cubiertas.\\n\\n2. **Falta de comprensión del código existente**:\\n   - Realizar sesiones de revisión de código con el equipo antes de escribir pruebas.\\n   - Documentar el flujo del código y las funciones clave.\\n   - Fomentar la colaboración entre desarrolladores para discutir la lógica del módulo.\\n\\n3. **Dependencias externas**:\\n   - Utilizar mocks o stubs para simular dependencias externas durante las pruebas.\\n   - Asegurar que las pruebas puedan ejecutarse en un entorno aislado y controlado.\\n   - Documentar los requisitos de entorno y configuración necesarios para ejecutar las pruebas.\\n\\n4. **Configuración incorrecta de Jest**:\\n   - Seguir una guía de configuración detallada y revisarla en grupo.\\n   - Realizar pruebas de configuración en un entorno de desarrollo antes de iniciar el proceso de prueba.\\n   - Incluir un script de verificación en el proceso de integración continua para asegurar que Jest esté correctamente configurado.\\n\\n5. **Cambios en el código**:\\n   - Utilizar control de versiones para gestionar cambios en el código de manera efectiva.\\n   - Establecer un proceso de comunicación claro sobre cambios realizados en el módulo durante la prueba.\\n   - Planificar revisiones periódicas del código para mantener las pruebas actualizadas.\\n\\n6. **Casos de prueba incompletos**:\\n   - Realizar sesiones de brainstorming con el equipo para identificar todos los casos de prueba necesarios.\\n   - Revisar casos de prueba con otros desarrolladores para asegurar que se consideran todos los escenarios.\\n   - Documentar los casos de prueba y su lógica para revisiones futuras.\\n\\n7. **Errores de lógica en las pruebas**:\\n   - Implementar revisiones de pares para los casos de prueba escritos.\\n   - Probar las pruebas unitarias en sí mismas para asegurar que fallan cuando se espera que lo hagan.\\n   - Fomentar la escritura de pruebas simples y claras, que sean fáciles de entender.\\n\\n8. **Falta de documentación**:\\n   - Crear una plantilla estandarizada para documentar cada prueba escrita.\\n   - Asignar tiempo al final de cada sesión de prueba para documentar los resultados y aprendizajes.\\n   - Incluir la documentación de pruebas en el repositorio del proyecto, asegurando su fácil acceso.\\n\\n9. **Revisión de código insuficiente**:\\n   - Establecer un proceso de revisión de código formal con criterios claros de aceptación.\\n   - Incluir revisiones específicas de pruebas unitarias en el proceso de revisión de código.\\n   - Utilizar herramientas de revisión de código que faciliten el comentario y seguimiento de cambios en las pruebas.\\n\\n10. **Plazos ajustados**:\\n   - Definir un cronograma realista que considere el tiempo necesario para la escritura y ejecución de pruebas.\\n   - Priorizar la implementación de pruebas críticas y de alto riesgo primero.\\n   - Planificar iteraciones cortas y revisiones frecuentes para ajustar el enfoque según sea necesario.', 'status': 'pendiente', 'title': 'Crear pruebas unitarias', 'token_usage': 4375}\n",
      "Auditoría IA tarea 3 (id=3): 200 {'assigned_to': 'Sofía', 'category': 'Testing', 'description': '**Descripción de la tarea: Crear pruebas unitarias para el módulo de autenticación de usuarios**\\n\\n1. **Objetivo**: Implementar pruebas unitarias que verifiquen la funcionalidad del módulo de autenticación de usuarios, asegurando que todas las funciones relacionadas al login, registro y validación de JWT se comporten como se espera.\\n\\n2. **Requisitos**:\\n   - Revisar el código actual del módulo de autenticación ubicado en `/src/auth`.\\n   - Identificar las funciones clave a probar:\\n     - `loginUser(credentials)`: Debe retornar un token JWT válido o un error en caso de credenciales incorrectas.\\n     - `registerUser(userData)`: Debe crear un nuevo usuario y retornar los datos del usuario o un error en caso de datos inválidos.\\n     - `validateToken(token)`: Debe verificar la validez del token y retornar un booleano o un error.\\n\\n3. **Herramientas**:\\n   - Utilizar Jest como framework de pruebas.\\n   - Asegurarse de que las pruebas estén en el directorio `/tests/auth`.\\n\\n4. **Pasos a seguir**:\\n   - Configurar Jest en el proyecto si aún no está configurado.\\n   - Crear archivos de prueba para cada función en el módulo:\\n     - `loginUser.test.js`\\n     - `registerUser.test.js`\\n     - `validateToken.test.js`\\n   - Escribir casos de prueba que cubran al menos las siguientes situaciones:\\n     - Para `loginUser`: pruebas de inicio de sesión exitoso y fallido (credenciales incorrectas).\\n     - Para `registerUser`: pruebas de registro exitoso, registro con datos ya existentes y registro con datos inválidos.\\n     - Para `validateToken`: pruebas con un token válido, un token expirado y un token inválido.\\n   - Ejecutar las pruebas y asegurar que todas pasen, realizando ajustes en el código del módulo si es necesario.\\n\\n5. **Documentación**:\\n   - Documentar cada prueba escrita, explicando el propósito y el resultado esperado en el archivo de prueba correspondiente.\\n   - Actualizar la documentación del módulo de autenticación para incluir detalles sobre las pruebas unitarias realizadas. \\n\\n6. **Revisión**:\\n   - Una vez completadas, solicitar una revisión del código a otro miembro del equipo para asegurar la calidad y cobertura de las pruebas.\\n\\n**Entregables**:\\n- Archivos de prueba en `/tests/auth`.\\n- Documentación', 'effort_hours': 20.0, 'id': 3, 'priority': 'baja', 'risk_analysis': '**ANÁLISIS DE RIESGOS**\\n\\n1. **Inexistencia de pruebas previas**: La falta de pruebas unitarias existentes podría llevar a una cobertura incompleta y a la introducción de errores en el módulo de autenticación.\\n\\n2. **Falta de comprensión del código existente**: Si el desarrollador no entiende completamente el código del módulo de autenticación, puede escribir pruebas inadecuadas o incorrectas.\\n\\n3. **Dependencias externas**: El módulo de autenticación puede tener dependencias externas (como bases de datos o servicios de terceros) que dificulten la ejecución de pruebas unitarias.\\n\\n4. **Configuración incorrecta de Jest**: Errores en la configuración de Jest pueden impedir que las pruebas se ejecuten correctamente, llevando a resultados falsos negativos.\\n\\n5. **Cambios en el código**: Modificaciones en el código del módulo de autenticación durante el proceso de prueba pueden hacer que las pruebas existentes se vuelvan obsoletas o irrelevantes.\\n\\n6. **Casos de prueba incompletos**: La omisión de casos de prueba importantes puede resultar en la falta de detección de errores críticos en la funcionalidad del módulo.\\n\\n7. **Errores de lógica en las pruebas**: La implementación de pruebas con lógica incorrecta puede llevar a resultados engañosos, donde las pruebas pasan pero el código tiene errores.\\n\\n8. **Falta de documentación**: La ausencia de documentación adecuada sobre las pruebas realizadas puede dificultar la comprensión y mantenimiento futuro del código.\\n\\n9. **Revisión de código insuficiente**: Si la revisión de código no se realiza de manera efectiva, pueden pasar por alto errores significativos en las pruebas o en la implementación.\\n\\n10. **Plazos ajustados**: El tiempo limitado para completar las pruebas puede llevar a una cobertura insuficiente o a la omisión de pruebas críticas.', 'risk_mitigation': '**PLAN DE MITIGACIÓN**\\n\\n1. **Inexistencia de pruebas previas**:\\n   - Establecer un estándar mínimo de cobertura de pruebas (por ejemplo, 80%).\\n   - Implementar pruebas de regresión de manera prioritaria y revisarlas con el equipo.\\n   - Utilizar herramientas de análisis de cobertura de código para identificar áreas no cubiertas.\\n\\n2. **Falta de comprensión del código existente**:\\n   - Realizar sesiones de revisión de código con el equipo antes de escribir pruebas.\\n   - Documentar el flujo del código y las funciones clave.\\n   - Fomentar la colaboración entre desarrolladores para discutir la lógica del módulo.\\n\\n3. **Dependencias externas**:\\n   - Utilizar mocks o stubs para simular dependencias externas durante las pruebas.\\n   - Asegurar que las pruebas puedan ejecutarse en un entorno aislado y controlado.\\n   - Documentar los requisitos de entorno y configuración necesarios para ejecutar las pruebas.\\n\\n4. **Configuración incorrecta de Jest**:\\n   - Seguir una guía de configuración detallada y revisarla en grupo.\\n   - Realizar pruebas de configuración en un entorno de desarrollo antes de iniciar el proceso de prueba.\\n   - Incluir un script de verificación en el proceso de integración continua para asegurar que Jest esté correctamente configurado.\\n\\n5. **Cambios en el código**:\\n   - Utilizar control de versiones para gestionar cambios en el código de manera efectiva.\\n   - Establecer un proceso de comunicación claro sobre cambios realizados en el módulo durante la prueba.\\n   - Planificar revisiones periódicas del código para mantener las pruebas actualizadas.\\n\\n6. **Casos de prueba incompletos**:\\n   - Realizar sesiones de brainstorming con el equipo para identificar todos los casos de prueba necesarios.\\n   - Revisar casos de prueba con otros desarrolladores para asegurar que se consideran todos los escenarios.\\n   - Documentar los casos de prueba y su lógica para revisiones futuras.\\n\\n7. **Errores de lógica en las pruebas**:\\n   - Implementar revisiones de pares para los casos de prueba escritos.\\n   - Probar las pruebas unitarias en sí mismas para asegurar que fallan cuando se espera que lo hagan.\\n   - Fomentar la escritura de pruebas simples y claras, que sean fáciles de entender.\\n\\n8. **Falta de documentación**:\\n   - Crear una plantilla estandarizada para documentar cada prueba escrita.\\n   - Asignar tiempo al final de cada sesión de prueba para documentar los resultados y aprendizajes.\\n   - Incluir la documentación de pruebas en el repositorio del proyecto, asegurando su fácil acceso.\\n\\n9. **Revisión de código insuficiente**:\\n   - Establecer un proceso de revisión de código formal con criterios claros de aceptación.\\n   - Incluir revisiones específicas de pruebas unitarias en el proceso de revisión de código.\\n   - Utilizar herramientas de revisión de código que faciliten el comentario y seguimiento de cambios en las pruebas.\\n\\n10. **Plazos ajustados**:\\n   - Definir un cronograma realista que considere el tiempo necesario para la escritura y ejecución de pruebas.\\n   - Priorizar la implementación de pruebas críticas y de alto riesgo primero.\\n   - Planificar iteraciones cortas y revisiones frecuentes para ajustar el enfoque según sea necesario.', 'status': 'pendiente', 'title': 'Crear pruebas unitarias', 'token_usage': 4375}\n"
     ]
    }
   ],
   "source": [
    "# Solicitar a la IA descripción, categoría, estimación de esfuerzo y auditoría para la tarea 3 \n",
    "\n",
    "if len(ids) >= 3:\n",
    "    task_id = ids[2]\n",
    "    # Descripción\n",
    "    resp_desc = requests.post(f'{API_URL}/ai/tasks/describe/{task_id}')\n",
    "    print(f\"Descripción IA tarea 3 (id={task_id}):\", resp_desc.status_code, resp_desc.json())\n",
    "    # Categoría\n",
    "    resp_cat = requests.post(f'{API_URL}/ai/tasks/categorize/{task_id}')\n",
    "    print(f\"Categoría IA tarea 3 (id={task_id}):\", resp_cat.status_code, resp_cat.json())\n",
    "    # Estimación de esfuerzo\n",
    "    resp_est = requests.post(f'{API_URL}/ai/tasks/estimate/{task_id}')\n",
    "    print(f\"Esfuerzo IA tarea 3 (id={task_id}):\", resp_est.status_code, resp_est.json())\n",
    "    # Auditoría\n",
    "    resp_aud = requests.post(f'{API_URL}/ai/tasks/audit/{task_id}')\n",
    "    print(f\"Auditoría IA tarea 3 (id={task_id}):\", resp_aud.status_code, resp_aud.json())\n",
    "else:\n",
    "    print(\"No se encontró la tarea 3 para solicitar los endpoints de IA.\")"
   ]
  },
  {
   "cell_type": "code",
   "execution_count": 14,
   "id": "d58b5d0e",
   "metadata": {},
   "outputs": [
    {
     "name": "stdout",
     "output_type": "stream",
     "text": [
      "Tarea 1 (id=1) - Tokens consumidos: 0\n",
      "Tarea 2 (id=2) - Tokens consumidos: 4582\n",
      "Tarea 3 (id=3) - Tokens consumidos: 4375\n"
     ]
    },
    {
     "data": {
      "text/plain": [
       "[0, 4582, 4375]"
      ]
     },
     "execution_count": 14,
     "metadata": {},
     "output_type": "execute_result"
    }
   ],
   "source": [
    "# Extraer y mostrar los tokens consumidos de las 3 tareas creadas\n",
    "\n",
    "token_usages = []\n",
    "for i, task_id in enumerate(ids):\n",
    "    resp = requests.get(f'{API_URL}/tasks/{task_id}')\n",
    "    if resp.status_code == 200:\n",
    "        tarea = resp.json()\n",
    "        tokens = tarea.get('token_usage', None)\n",
    "        print(f\"Tarea {i+1} (id={task_id}) - Tokens consumidos: {tokens}\")\n",
    "        token_usages.append(tokens)\n",
    "    else:\n",
    "        print(f\"No se pudo obtener la tarea {i+1} (id={task_id})\")\n",
    "\n",
    "token_usages"
   ]
  },
  {
   "cell_type": "code",
   "execution_count": 16,
   "id": "6b4a3dad",
   "metadata": {},
   "outputs": [
    {
     "name": "stdout",
     "output_type": "stream",
     "text": [
      "Información completa de la tarea 3 (id=3):\n",
      "{\n",
      "  \"assigned_to\": \"Sofía\",\n",
      "  \"category\": \"Testing\",\n",
      "  \"description\": \"**Descripción de la tarea: Crear pruebas unitarias para el módulo de autenticación de usuarios**\\n\\n1. **Objetivo**: Implementar pruebas unitarias que verifiquen la funcionalidad del módulo de autenticación de usuarios, asegurando que todas las funciones relacionadas al login, registro y validación de JWT se comporten como se espera.\\n\\n2. **Requisitos**:\\n   - Revisar el código actual del módulo de autenticación ubicado en `/src/auth`.\\n   - Identificar las funciones clave a probar:\\n     - `loginUser(credentials)`: Debe retornar un token JWT válido o un error en caso de credenciales incorrectas.\\n     - `registerUser(userData)`: Debe crear un nuevo usuario y retornar los datos del usuario o un error en caso de datos inválidos.\\n     - `validateToken(token)`: Debe verificar la validez del token y retornar un booleano o un error.\\n\\n3. **Herramientas**:\\n   - Utilizar Jest como framework de pruebas.\\n   - Asegurarse de que las pruebas estén en el directorio `/tests/auth`.\\n\\n4. **Pasos a seguir**:\\n   - Configurar Jest en el proyecto si aún no está configurado.\\n   - Crear archivos de prueba para cada función en el módulo:\\n     - `loginUser.test.js`\\n     - `registerUser.test.js`\\n     - `validateToken.test.js`\\n   - Escribir casos de prueba que cubran al menos las siguientes situaciones:\\n     - Para `loginUser`: pruebas de inicio de sesión exitoso y fallido (credenciales incorrectas).\\n     - Para `registerUser`: pruebas de registro exitoso, registro con datos ya existentes y registro con datos inválidos.\\n     - Para `validateToken`: pruebas con un token válido, un token expirado y un token inválido.\\n   - Ejecutar las pruebas y asegurar que todas pasen, realizando ajustes en el código del módulo si es necesario.\\n\\n5. **Documentación**:\\n   - Documentar cada prueba escrita, explicando el propósito y el resultado esperado en el archivo de prueba correspondiente.\\n   - Actualizar la documentación del módulo de autenticación para incluir detalles sobre las pruebas unitarias realizadas. \\n\\n6. **Revisión**:\\n   - Una vez completadas, solicitar una revisión del código a otro miembro del equipo para asegurar la calidad y cobertura de las pruebas.\\n\\n**Entregables**:\\n- Archivos de prueba en `/tests/auth`.\\n- Documentación\",\n",
      "  \"effort_hours\": 20.0,\n",
      "  \"id\": 3,\n",
      "  \"priority\": \"baja\",\n",
      "  \"risk_analysis\": \"**ANÁLISIS DE RIESGOS**\\n\\n1. **Inexistencia de pruebas previas**: La falta de pruebas unitarias existentes podría llevar a una cobertura incompleta y a la introducción de errores en el módulo de autenticación.\\n\\n2. **Falta de comprensión del código existente**: Si el desarrollador no entiende completamente el código del módulo de autenticación, puede escribir pruebas inadecuadas o incorrectas.\\n\\n3. **Dependencias externas**: El módulo de autenticación puede tener dependencias externas (como bases de datos o servicios de terceros) que dificulten la ejecución de pruebas unitarias.\\n\\n4. **Configuración incorrecta de Jest**: Errores en la configuración de Jest pueden impedir que las pruebas se ejecuten correctamente, llevando a resultados falsos negativos.\\n\\n5. **Cambios en el código**: Modificaciones en el código del módulo de autenticación durante el proceso de prueba pueden hacer que las pruebas existentes se vuelvan obsoletas o irrelevantes.\\n\\n6. **Casos de prueba incompletos**: La omisión de casos de prueba importantes puede resultar en la falta de detección de errores críticos en la funcionalidad del módulo.\\n\\n7. **Errores de lógica en las pruebas**: La implementación de pruebas con lógica incorrecta puede llevar a resultados engañosos, donde las pruebas pasan pero el código tiene errores.\\n\\n8. **Falta de documentación**: La ausencia de documentación adecuada sobre las pruebas realizadas puede dificultar la comprensión y mantenimiento futuro del código.\\n\\n9. **Revisión de código insuficiente**: Si la revisión de código no se realiza de manera efectiva, pueden pasar por alto errores significativos en las pruebas o en la implementación.\\n\\n10. **Plazos ajustados**: El tiempo limitado para completar las pruebas puede llevar a una cobertura insuficiente o a la omisión de pruebas críticas.\",\n",
      "  \"risk_mitigation\": \"**PLAN DE MITIGACIÓN**\\n\\n1. **Inexistencia de pruebas previas**:\\n   - Establecer un estándar mínimo de cobertura de pruebas (por ejemplo, 80%).\\n   - Implementar pruebas de regresión de manera prioritaria y revisarlas con el equipo.\\n   - Utilizar herramientas de análisis de cobertura de código para identificar áreas no cubiertas.\\n\\n2. **Falta de comprensión del código existente**:\\n   - Realizar sesiones de revisión de código con el equipo antes de escribir pruebas.\\n   - Documentar el flujo del código y las funciones clave.\\n   - Fomentar la colaboración entre desarrolladores para discutir la lógica del módulo.\\n\\n3. **Dependencias externas**:\\n   - Utilizar mocks o stubs para simular dependencias externas durante las pruebas.\\n   - Asegurar que las pruebas puedan ejecutarse en un entorno aislado y controlado.\\n   - Documentar los requisitos de entorno y configuración necesarios para ejecutar las pruebas.\\n\\n4. **Configuración incorrecta de Jest**:\\n   - Seguir una guía de configuración detallada y revisarla en grupo.\\n   - Realizar pruebas de configuración en un entorno de desarrollo antes de iniciar el proceso de prueba.\\n   - Incluir un script de verificación en el proceso de integración continua para asegurar que Jest esté correctamente configurado.\\n\\n5. **Cambios en el código**:\\n   - Utilizar control de versiones para gestionar cambios en el código de manera efectiva.\\n   - Establecer un proceso de comunicación claro sobre cambios realizados en el módulo durante la prueba.\\n   - Planificar revisiones periódicas del código para mantener las pruebas actualizadas.\\n\\n6. **Casos de prueba incompletos**:\\n   - Realizar sesiones de brainstorming con el equipo para identificar todos los casos de prueba necesarios.\\n   - Revisar casos de prueba con otros desarrolladores para asegurar que se consideran todos los escenarios.\\n   - Documentar los casos de prueba y su lógica para revisiones futuras.\\n\\n7. **Errores de lógica en las pruebas**:\\n   - Implementar revisiones de pares para los casos de prueba escritos.\\n   - Probar las pruebas unitarias en sí mismas para asegurar que fallan cuando se espera que lo hagan.\\n   - Fomentar la escritura de pruebas simples y claras, que sean fáciles de entender.\\n\\n8. **Falta de documentación**:\\n   - Crear una plantilla estandarizada para documentar cada prueba escrita.\\n   - Asignar tiempo al final de cada sesión de prueba para documentar los resultados y aprendizajes.\\n   - Incluir la documentación de pruebas en el repositorio del proyecto, asegurando su fácil acceso.\\n\\n9. **Revisión de código insuficiente**:\\n   - Establecer un proceso de revisión de código formal con criterios claros de aceptación.\\n   - Incluir revisiones específicas de pruebas unitarias en el proceso de revisión de código.\\n   - Utilizar herramientas de revisión de código que faciliten el comentario y seguimiento de cambios en las pruebas.\\n\\n10. **Plazos ajustados**:\\n   - Definir un cronograma realista que considere el tiempo necesario para la escritura y ejecución de pruebas.\\n   - Priorizar la implementación de pruebas críticas y de alto riesgo primero.\\n   - Planificar iteraciones cortas y revisiones frecuentes para ajustar el enfoque según sea necesario.\",\n",
      "  \"status\": \"pendiente\",\n",
      "  \"title\": \"Crear pruebas unitarias\",\n",
      "  \"token_usage\": 4375\n",
      "}\n"
     ]
    }
   ],
   "source": [
    "# Mostrar toda la información actual de la tarea 3 (Crear pruebas unitarias)\n",
    "\n",
    "import json\n",
    "\n",
    "if len(ids) >= 3:\n",
    "    task_id = ids[2]\n",
    "    resp = requests.get(f'{API_URL}/tasks/{task_id}')\n",
    "    if resp.status_code == 200:\n",
    "        tarea = resp.json()\n",
    "        print(f\"Información completa de la tarea 3 (id={task_id}):\")\n",
    "        print(json.dumps(tarea, indent=2, ensure_ascii=False))\n",
    "    else:\n",
    "        print(f\"No se pudo obtener la tarea 3: {resp.status_code}\")\n",
    "else:\n",
    "    print(\"No se encontró la tarea 3 para mostrar su información.\")"
   ]
  }
 ],
 "metadata": {
  "kernelspec": {
   "display_name": "venv",
   "language": "python",
   "name": "python3"
  },
  "language_info": {
   "codemirror_mode": {
    "name": "ipython",
    "version": 3
   },
   "file_extension": ".py",
   "mimetype": "text/x-python",
   "name": "python",
   "nbconvert_exporter": "python",
   "pygments_lexer": "ipython3",
   "version": "3.13.3"
  }
 },
 "nbformat": 4,
 "nbformat_minor": 5
}
