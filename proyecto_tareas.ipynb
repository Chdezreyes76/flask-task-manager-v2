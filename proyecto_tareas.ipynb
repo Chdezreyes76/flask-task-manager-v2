{
 "cells": [
  {
   "cell_type": "markdown",
   "id": "e23fedb5",
   "metadata": {},
   "source": [
    "# Guía de uso y pruebas del proyecto Flask: Gestión de Tareas\n",
    "\n",
    "Este cuaderno sirve como guía práctica para ejecutar, probar y consumir la API RESTful desarrollada en Flask para la gestión de tareas. Incluye ejemplos de uso, pruebas de los endpoints y recomendaciones para la migración futura."
   ]
  },
  {
   "cell_type": "markdown",
   "id": "e469433e",
   "metadata": {},
   "source": [
    "## 1. Requisitos previos y preparación del entorno\n",
    "\n",
    "Antes de ejecutar el proyecto, asegúrate de tener instalado:\n",
    "- Python 3.10 o superior\n",
    "- pip\n",
    "- Un entorno virtual (recomendado)\n",
    "\n",
    "Instala las dependencias ejecutando:\n",
    "```bash\n",
    "pip install -r requirements.txt\n",
    "```\n",
    "\n",
    "Para activar el entorno virtual (en Windows):\n",
    "```bash\n",
    ".venv\\Scripts\\activate\n",
    "```"
   ]
  },
  {
   "cell_type": "code",
   "execution_count": null,
   "id": "7612b568",
   "metadata": {},
   "outputs": [],
   "source": [
    "# 2. Ejecución del servidor Flask desde el notebook\n",
    "# Esta celda inicia el servidor Flask en segundo plano para que puedas probar la API sin salir del notebook.\n",
    "import subprocess\n",
    "import sys\n",
    "import os\n",
    "import time\n",
    "\n",
    "# Detener un posible servidor anterior (solo si reinicias el kernel)\n",
    "if 'flask_process' in globals():\n",
    "    try:\n",
    "        flask_process.terminate()\n",
    "    except Exception:\n",
    "        pass\n",
    "\n",
    "# Lanzar el servidor Flask en segundo plano\n",
    "flask_process = subprocess.Popen([\n",
    "    sys.executable, 'run.py'\n",
    "], stdout=subprocess.PIPE, stderr=subprocess.PIPE, cwd=os.getcwd())\n",
    "\n",
    "print(\"Servidor Flask iniciado en segundo plano. Espera unos segundos antes de probar los endpoints.\")\n",
    "time.sleep(2)  # Espera breve para que el servidor arranque"
   ]
  },
  {
   "cell_type": "markdown",
   "id": "e1a5d5d9",
   "metadata": {},
   "source": [
    "## 3. Estructura de la API y endpoints principales\n",
    "\n",
    "La API expone los siguientes endpoints:\n",
    "- `GET /tasks` — Listar todas las tareas\n",
    "- `GET /tasks/<id>` — Obtener una tarea por ID\n",
    "- `POST /tasks` — Crear una nueva tarea\n",
    "- `PUT /tasks/<id>` — Actualizar una tarea existente\n",
    "- `DELETE /tasks/<id>` — Eliminar una tarea\n",
    "\n",
    "Todos los endpoints aceptan y devuelven datos en formato JSON."
   ]
  },
  {
   "cell_type": "markdown",
   "id": "1fe8cb6c",
   "metadata": {},
   "source": [
    "## 4. Ejemplo: Crear una tarea\n",
    "\n",
    "A continuación, se muestra cómo crear una tarea usando la API mediante la librería `requests` de Python."
   ]
  },
  {
   "cell_type": "code",
   "execution_count": null,
   "id": "31b7151f",
   "metadata": {},
   "outputs": [],
   "source": [
    "import requests\n",
    "\n",
    "url = \"http://127.0.0.1:5000/tasks\"\n",
    "data = {\n",
    "    \"title\": \"Preparar entrega\",\n",
    "    \"description\": \"Preparar informe liquidacion sociedad\",\n",
    "    \"priority\": \"media\",\n",
    "    \"effort_hours\": 10,\n",
    "    \"status\": \"pendiente\",\n",
    "    \"assigned_to\": \"Maria\"\n",
    "}\n",
    "response = requests.post(url, json=data)\n",
    "print(\"Status:\", response.status_code)\n",
    "print(\"Respuesta:\", response.json())"
   ]
  },
  {
   "cell_type": "markdown",
   "id": "fb7f3f1b",
   "metadata": {},
   "source": [
    "## 5. Ejemplo: Listar todas las tareas"
   ]
  },
  {
   "cell_type": "code",
   "execution_count": null,
   "id": "1153b891",
   "metadata": {},
   "outputs": [],
   "source": [
    "response = requests.get(\"http://127.0.0.1:5000/tasks\")\n",
    "print(\"Status:\", response.status_code)\n",
    "print(\"Tareas:\", response.json())"
   ]
  },
  {
   "cell_type": "markdown",
   "id": "f2ddc465",
   "metadata": {},
   "source": [
    "## 6. Ejemplo: Obtener una tarea por ID\n",
    "\n",
    "Sustituye `<id>` por el ID real de una tarea existente."
   ]
  },
  {
   "cell_type": "code",
   "execution_count": null,
   "id": "ebd28465",
   "metadata": {},
   "outputs": [],
   "source": [
    "task_id = 1  # Cambia este valor por el ID de una tarea existente\n",
    "task_url = f\"http://127.0.0.1:5000/tasks/{task_id}\"\n",
    "response = requests.get(task_url)\n",
    "print(\"Status:\", response.status_code)\n",
    "print(\"Tarea:\", response.json())"
   ]
  },
  {
   "cell_type": "markdown",
   "id": "08298cb9",
   "metadata": {},
   "source": [
    "## 7. Ejemplo: Actualizar una tarea"
   ]
  },
  {
   "cell_type": "code",
   "execution_count": null,
   "id": "88c901f6",
   "metadata": {},
   "outputs": [],
   "source": [
    "update_data = {\n",
    "    \"id\": task_id,  # Es obligatorio incluir el id al actualizar\n",
    "    \"title\": \"Preparar entrega final\",\n",
    "    \"description\": \"Documentación, pruebas y revisión final\",\n",
    "    \"priority\": \"alta\",\n",
    "    \"effort_hours\": 5,\n",
    "    \"status\": \"en progreso\",\n",
    "    \"assigned_to\": \"Carlos\"\n",
    "}\n",
    "response = requests.put(task_url, json=update_data)\n",
    "print(\"Status:\", response.status_code)\n",
    "print(\"Respuesta:\", response.json())"
   ]
  },
  {
   "cell_type": "markdown",
   "id": "db56e2ec",
   "metadata": {},
   "source": [
    "## 8. Ejemplo: Eliminar una tarea"
   ]
  },
  {
   "cell_type": "code",
   "execution_count": null,
   "id": "c8eeb58a",
   "metadata": {},
   "outputs": [],
   "source": [
    "response = requests.delete(task_url)\n",
    "print(\"Status:\", response.status_code)\n",
    "print(\"Respuesta:\", response.json())"
   ]
  },
  {
   "cell_type": "markdown",
   "id": "69acaa76",
   "metadata": {},
   "source": [
    "## 9. Pruebas automatizadas\n",
    "\n",
    "Las pruebas unitarias están implementadas con `pytest` en el archivo `tests/test_tasks.py`. Para ejecutarlas:\n",
    "```bash\n",
    "pytest -s\n",
    "```\n",
    "\n",
    "Esto validará automáticamente la lógica de negocio y la persistencia de tareas."
   ]
  },
  {
   "cell_type": "markdown",
   "id": "d15664a9",
   "metadata": {},
   "source": [
    "## 10. Recomendaciones para migración futura a MySQL\n",
    "\n",
    "La arquitectura desacoplada permite migrar fácilmente a MySQL implementando un nuevo repositorio que herede de la interfaz `ITaskRepository`.\n",
    "\n",
    "Pasos sugeridos:\n",
    "1. Implementar `MySQLTaskRepository` en `app/repositories/mysql_task_repository.py`.\n",
    "2. Cambiar la instancia de repositorio en la inicialización de la app.\n",
    "3. Ajustar la configuración de conexión y dependencias en `requirements.txt`.\n",
    "\n",
    "No es necesario modificar la lógica de negocio ni las rutas."
   ]
  },
  {
   "cell_type": "markdown",
   "id": "5ca28b23",
   "metadata": {},
   "source": [
    "---\n",
    "\n",
    "**¡Listo!** Este cuaderno te permite probar y consumir la API de gestión de tareas, así como validar su funcionamiento y preparar el proyecto para futuras mejoras."
   ]
  }
 ],
 "metadata": {
  "kernelspec": {
   "display_name": "venv",
   "language": "python",
   "name": "python3"
  },
  "language_info": {
   "codemirror_mode": {
    "name": "ipython",
    "version": 3
   },
   "file_extension": ".py",
   "mimetype": "text/x-python",
   "name": "python",
   "nbconvert_exporter": "python",
   "pygments_lexer": "ipython3",
   "version": "3.13.3"
  }
 },
 "nbformat": 4,
 "nbformat_minor": 5
}
